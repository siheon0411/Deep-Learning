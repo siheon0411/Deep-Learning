{
  "nbformat": 4,
  "nbformat_minor": 0,
  "metadata": {
    "colab": {
      "provenance": [],
      "include_colab_link": true
    },
    "kernelspec": {
      "name": "python3",
      "display_name": "Python 3"
    },
    "language_info": {
      "name": "python"
    }
  },
  "cells": [
    {
      "cell_type": "markdown",
      "metadata": {
        "id": "view-in-github",
        "colab_type": "text"
      },
      "source": [
        "<a href=\"https://colab.research.google.com/github/siheon0411/Deep-Learning/blob/main/10_2_Convolution_for_MNIST_1D.ipynb\" target=\"_parent\"><img src=\"https://colab.research.google.com/assets/colab-badge.svg\" alt=\"Open In Colab\"/></a>"
      ]
    },
    {
      "cell_type": "markdown",
      "source": [
        "\n",
        "\n",
        "\n",
        "# **Notebook 10.2: Convolution for MNIST-1D**\n",
        "\n",
        "This notebook investigates a 1D convolutional network for MNIST-1D as in figure 10.7 and 10.8a.\n",
        "\n",
        "Work through the cells below, running each cell in turn. In various places you will see the words \"TO DO\". Follow the instructions at these places and make predictions about what is going to happen or write code to complete the functions.\n",
        "\n",
        "Contact me at udlbookmail@gmail.com if you find any mistakes or have any suggestions.\n",
        "\n"
      ],
      "metadata": {
        "id": "t9vk9Elugvmi"
      }
    },
    {
      "cell_type": "code",
      "source": [
        "# Run this if you're in a Colab to make a local copy of the MNIST 1D repository\n",
        "!git clone https://github.com/greydanus/mnist1d"
      ],
      "metadata": {
        "id": "D5yLObtZCi9J",
        "colab": {
          "base_uri": "https://localhost:8080/"
        },
        "outputId": "fa4e5605-b9e7-4a2b-ba8b-99f9cc806441"
      },
      "execution_count": 1,
      "outputs": [
        {
          "output_type": "stream",
          "name": "stdout",
          "text": [
            "Cloning into 'mnist1d'...\n",
            "remote: Enumerating objects: 155, done.\u001b[K\n",
            "remote: Counting objects: 100% (155/155), done.\u001b[K\n",
            "remote: Compressing objects: 100% (129/129), done.\u001b[K\n",
            "remote: Total 155 (delta 52), reused 123 (delta 26), pack-reused 0\u001b[K\n",
            "Receiving objects: 100% (155/155), 6.48 MiB | 25.70 MiB/s, done.\n",
            "Resolving deltas: 100% (52/52), done.\n"
          ]
        }
      ]
    },
    {
      "cell_type": "code",
      "source": [
        "import numpy as np\n",
        "import os\n",
        "import torch, torch.nn as nn\n",
        "from torch.utils.data import TensorDataset, DataLoader\n",
        "from torch.optim.lr_scheduler import StepLR\n",
        "import matplotlib.pyplot as plt\n",
        "import mnist1d\n",
        "import random"
      ],
      "metadata": {
        "id": "YrXWAH7sUWvU"
      },
      "execution_count": 2,
      "outputs": []
    },
    {
      "cell_type": "code",
      "source": [
        "args = mnist1d.data.get_dataset_args()\n",
        "data = mnist1d.data.get_dataset(args, path='./mnist1d_data.pkl', download=False, regenerate=False)\n",
        "\n",
        "# The training and test input and outputs are in\n",
        "# data['x'], data['y'], data['x_test'], and data['y_test']\n",
        "print(\"Examples in training set: {}\".format(len(data['y'])))\n",
        "print(\"Examples in test set: {}\".format(len(data['y_test'])))\n",
        "print(\"Length of each example: {}\".format(data['x'].shape[-1]))"
      ],
      "metadata": {
        "id": "twI72ZCrCt5z",
        "colab": {
          "base_uri": "https://localhost:8080/"
        },
        "outputId": "19b87238-8a9f-4373-a791-01dfc9e5db59"
      },
      "execution_count": 3,
      "outputs": [
        {
          "output_type": "stream",
          "name": "stdout",
          "text": [
            "Did or could not load data from ./mnist1d_data.pkl. Rebuilding dataset...\n",
            "Examples in training set: 4000\n",
            "Examples in test set: 1000\n",
            "Length of each example: 40\n"
          ]
        }
      ]
    },
    {
      "cell_type": "code",
      "source": [
        "# Load in the data\n",
        "train_data_x = data['x'].transpose()\n",
        "train_data_y = data['y']\n",
        "val_data_x = data['x_test'].transpose()\n",
        "val_data_y = data['y_test']\n",
        "# Print out sizes\n",
        "print(\"Train data: %d examples (columns), each of which has %d dimensions (rows)\"%((train_data_x.shape[1],train_data_x.shape[0])))\n",
        "print(\"Validation data: %d examples (columns), each of which has %d dimensions (rows)\"%((val_data_x.shape[1],val_data_x.shape[0])))"
      ],
      "metadata": {
        "id": "8bKADvLHbiV5",
        "colab": {
          "base_uri": "https://localhost:8080/"
        },
        "outputId": "022c1d2f-d6bc-442b-f688-b061366146eb"
      },
      "execution_count": 4,
      "outputs": [
        {
          "output_type": "stream",
          "name": "stdout",
          "text": [
            "Train data: 4000 examples (columns), each of which has 40 dimensions (rows)\n",
            "Validation data: 1000 examples (columns), each of which has 40 dimensions (rows)\n"
          ]
        }
      ]
    },
    {
      "cell_type": "markdown",
      "source": [
        "Define the network"
      ],
      "metadata": {
        "id": "_sFvRDGrl4qe"
      }
    },
    {
      "cell_type": "code",
      "source": [
        "# There are 40 input dimensions and 10 output dimensions for this data\n",
        "# The inputs correspond to the 40 offsets in the MNIST1D template.\n",
        "D_i = 40\n",
        "# The outputs correspond to the 10 digits\n",
        "D_o = 10\n",
        "\n",
        "\n",
        "# TODO Create a model with the following layers\n",
        "# 1. Convolutional layer, (input=length 40 and 1 channel, kernel size 3x3, stride 2, padding=\"valid\", 15 output channels )\n",
        "# 2. ReLU\n",
        "# 3. Convolutional layer, (input=length 19 and 15 channels, kernel size 3x3, stride 2, padding=\"valid\", 15 output channels )\n",
        "# 4. ReLU\n",
        "# 5. Convolutional layer, (input=length 9 and 15 channels, kernel size 3x3, stride 2, padding=\"valid\", 15 output channels)\n",
        "# 6. ReLU\n",
        "# 7. Flatten (converts 4x15) to length 60\n",
        "# 8. Linear layer (input size = 60, output size = 10)\n",
        "# References:\n",
        "# https://pytorch.org/docs/1.13/generated/torch.nn.Conv1d.html?highlight=conv1d#torch.nn.Conv1d\n",
        "# https://pytorch.org/docs/stable/generated/torch.nn.Flatten.html\n",
        "# https://pytorch.org/docs/1.13/generated/torch.nn.Linear.html?highlight=linear#torch.nn.Linear\n",
        "\n",
        "# Replace the following function:\n",
        "model = nn.Sequential(\n",
        "    nn.Conv1d(in_channels=1, out_channels=15, kernel_size=3, stride=2, padding=0),\n",
        "    nn.ReLU(),\n",
        "    nn.Conv1d(in_channels=15, out_channels=15, kernel_size=3, stride=2, padding=0),\n",
        "    nn.ReLU(),\n",
        "    nn.Conv1d(in_channels=15, out_channels=15, kernel_size=3, stride=2, padding=0),\n",
        "    nn.ReLU(),\n",
        "    nn.Flatten(),\n",
        "    nn.Linear(in_features=60, out_features=10)\n",
        ")\n",
        "\n",
        "\n",
        "\n"
      ],
      "metadata": {
        "id": "FslroPJJffrh"
      },
      "execution_count": 8,
      "outputs": []
    },
    {
      "cell_type": "code",
      "source": [
        "# He initialization of weights\n",
        "def weights_init(layer_in):\n",
        "  if isinstance(layer_in, nn.Linear):\n",
        "    nn.init.kaiming_uniform_(layer_in.weight)\n",
        "    layer_in.bias.data.fill_(0.0)"
      ],
      "metadata": {
        "id": "YgLaex1pfhqz"
      },
      "execution_count": 9,
      "outputs": []
    },
    {
      "cell_type": "code",
      "source": [
        "# choose cross entropy loss function (equation 5.24 in the loss notes)\n",
        "loss_function = nn.CrossEntropyLoss()\n",
        "# construct SGD optimizer and initialize learning rate and momentum\n",
        "optimizer = torch.optim.SGD(model.parameters(), lr = 0.05, momentum=0.9)\n",
        "# object that decreases learning rate by half every 20 epochs\n",
        "scheduler = StepLR(optimizer, step_size=20, gamma=0.5)\n",
        "# create 100 dummy data points and store in data loader class\n",
        "x_train = torch.tensor(train_data_x.transpose().astype('float32'))\n",
        "y_train = torch.tensor(train_data_y.astype('long'))\n",
        "x_val= torch.tensor(val_data_x.transpose().astype('float32'))\n",
        "y_val = torch.tensor(val_data_y.astype('long'))\n",
        "\n",
        "# load the data into a class that creates the batches\n",
        "data_loader = DataLoader(TensorDataset(x_train,y_train), batch_size=100, shuffle=True, worker_init_fn=np.random.seed(1))\n",
        "\n",
        "# Initialize model weights\n",
        "model.apply(weights_init)\n",
        "\n",
        "# loop over the dataset n_epoch times\n",
        "n_epoch = 100\n",
        "# store the loss and the % correct at each epoch\n",
        "losses_train = np.zeros((n_epoch))\n",
        "errors_train = np.zeros((n_epoch))\n",
        "losses_val = np.zeros((n_epoch))\n",
        "errors_val = np.zeros((n_epoch))\n",
        "\n",
        "for epoch in range(n_epoch):\n",
        "  # loop over batches\n",
        "  for i, data in enumerate(data_loader):\n",
        "    # retrieve inputs and labels for this batch\n",
        "    x_batch, y_batch = data\n",
        "    # zero the parameter gradients\n",
        "    optimizer.zero_grad()\n",
        "    # forward pass -- calculate model output\n",
        "    pred = model(x_batch[:,None,:])\n",
        "    # compute the loss\n",
        "    loss = loss_function(pred, y_batch)\n",
        "    # backward pass\n",
        "    loss.backward()\n",
        "    # SGD update\n",
        "    optimizer.step()\n",
        "\n",
        "  # Run whole dataset to get statistics -- normally wouldn't do this\n",
        "  pred_train = model(x_train[:,None,:])\n",
        "  pred_val = model(x_val[:,None,:])\n",
        "  _, predicted_train_class = torch.max(pred_train.data, 1)\n",
        "  _, predicted_val_class = torch.max(pred_val.data, 1)\n",
        "  errors_train[epoch] = 100 - 100 * (predicted_train_class == y_train).float().sum() / len(y_train)\n",
        "  errors_val[epoch]= 100 - 100 * (predicted_val_class == y_val).float().sum() / len(y_val)\n",
        "  losses_train[epoch] = loss_function(pred_train, y_train).item()\n",
        "  losses_val[epoch]= loss_function(pred_val, y_val).item()\n",
        "  print(f'Epoch {epoch:5d}, train loss {losses_train[epoch]:.6f}, train error {errors_train[epoch]:3.2f},  val loss {losses_val[epoch]:.6f}, percent error {errors_val[epoch]:3.2f}')\n",
        "\n",
        "  # tell scheduler to consider updating learning rate\n",
        "  scheduler.step()\n",
        "\n",
        "# Plot the results\n",
        "fig, ax = plt.subplots()\n",
        "ax.plot(errors_train,'r-',label='train')\n",
        "ax.plot(errors_val,'b-',label='validation')\n",
        "ax.set_ylim(0,100); ax.set_xlim(0,n_epoch)\n",
        "ax.set_xlabel('Epoch'); ax.set_ylabel('Error')\n",
        "ax.set_title('Part I: Validation Result %3.2f'%(errors_val[-1]))\n",
        "ax.legend()\n",
        "plt.show()"
      ],
      "metadata": {
        "id": "NYw8I_3mmX5c",
        "colab": {
          "base_uri": "https://localhost:8080/",
          "height": 1000
        },
        "outputId": "e5bb22ab-83df-490b-a72e-8ad8f5801a99"
      },
      "execution_count": 10,
      "outputs": [
        {
          "output_type": "stream",
          "name": "stdout",
          "text": [
            "Epoch     0, train loss 1.956171, train error 75.93,  val loss 1.953693, percent error 77.50\n",
            "Epoch     1, train loss 1.493655, train error 60.05,  val loss 1.522851, percent error 64.50\n",
            "Epoch     2, train loss 1.318416, train error 55.25,  val loss 1.318590, percent error 56.20\n",
            "Epoch     3, train loss 1.157192, train error 46.47,  val loss 1.164462, percent error 48.00\n",
            "Epoch     4, train loss 1.100914, train error 44.35,  val loss 1.118455, percent error 45.00\n",
            "Epoch     5, train loss 0.980058, train error 40.33,  val loss 1.044433, percent error 45.00\n",
            "Epoch     6, train loss 0.888161, train error 35.18,  val loss 0.943842, percent error 38.40\n",
            "Epoch     7, train loss 0.745228, train error 28.55,  val loss 0.791026, percent error 32.00\n",
            "Epoch     8, train loss 0.750730, train error 29.88,  val loss 0.823787, percent error 33.50\n",
            "Epoch     9, train loss 0.642219, train error 25.88,  val loss 0.710277, percent error 30.80\n",
            "Epoch    10, train loss 0.701063, train error 27.68,  val loss 0.772154, percent error 31.50\n",
            "Epoch    11, train loss 0.567900, train error 21.78,  val loss 0.657785, percent error 24.50\n",
            "Epoch    12, train loss 0.501176, train error 18.35,  val loss 0.602081, percent error 22.90\n",
            "Epoch    13, train loss 0.499550, train error 18.75,  val loss 0.641561, percent error 25.90\n",
            "Epoch    14, train loss 0.449213, train error 16.85,  val loss 0.540029, percent error 21.10\n",
            "Epoch    15, train loss 0.453756, train error 17.35,  val loss 0.587761, percent error 21.50\n",
            "Epoch    16, train loss 0.501269, train error 19.88,  val loss 0.628079, percent error 21.50\n",
            "Epoch    17, train loss 0.451405, train error 16.20,  val loss 0.516053, percent error 19.00\n",
            "Epoch    18, train loss 0.400560, train error 14.60,  val loss 0.517079, percent error 18.50\n",
            "Epoch    19, train loss 0.390675, train error 13.78,  val loss 0.486931, percent error 16.40\n",
            "Epoch    20, train loss 0.251122, train error 9.18,  val loss 0.383585, percent error 13.30\n",
            "Epoch    21, train loss 0.252539, train error 9.03,  val loss 0.382519, percent error 12.90\n",
            "Epoch    22, train loss 0.214771, train error 7.20,  val loss 0.353674, percent error 11.70\n",
            "Epoch    23, train loss 0.213213, train error 7.78,  val loss 0.381494, percent error 12.20\n",
            "Epoch    24, train loss 0.242155, train error 8.93,  val loss 0.416260, percent error 13.40\n",
            "Epoch    25, train loss 0.201989, train error 7.32,  val loss 0.360761, percent error 12.90\n",
            "Epoch    26, train loss 0.195779, train error 6.80,  val loss 0.387339, percent error 12.00\n",
            "Epoch    27, train loss 0.200686, train error 6.72,  val loss 0.369505, percent error 12.40\n",
            "Epoch    28, train loss 0.160697, train error 5.18,  val loss 0.332643, percent error 10.10\n",
            "Epoch    29, train loss 0.159992, train error 5.40,  val loss 0.344210, percent error 10.90\n",
            "Epoch    30, train loss 0.161888, train error 5.35,  val loss 0.366442, percent error 11.50\n",
            "Epoch    31, train loss 0.144067, train error 5.10,  val loss 0.330629, percent error 10.40\n",
            "Epoch    32, train loss 0.183022, train error 6.85,  val loss 0.377190, percent error 12.00\n",
            "Epoch    33, train loss 0.194239, train error 7.30,  val loss 0.397777, percent error 13.30\n",
            "Epoch    34, train loss 0.142915, train error 5.15,  val loss 0.359351, percent error 11.00\n",
            "Epoch    35, train loss 0.137915, train error 4.70,  val loss 0.341374, percent error 10.00\n",
            "Epoch    36, train loss 0.117474, train error 3.82,  val loss 0.350864, percent error 10.40\n",
            "Epoch    37, train loss 0.126766, train error 4.53,  val loss 0.351566, percent error 10.40\n",
            "Epoch    38, train loss 0.123470, train error 4.40,  val loss 0.353670, percent error 10.70\n",
            "Epoch    39, train loss 0.125094, train error 4.43,  val loss 0.346428, percent error 10.00\n",
            "Epoch    40, train loss 0.098528, train error 3.03,  val loss 0.335114, percent error 9.60\n",
            "Epoch    41, train loss 0.098897, train error 3.05,  val loss 0.339474, percent error 9.70\n",
            "Epoch    42, train loss 0.091092, train error 2.75,  val loss 0.334288, percent error 9.30\n",
            "Epoch    43, train loss 0.090683, train error 2.72,  val loss 0.339444, percent error 9.90\n",
            "Epoch    44, train loss 0.087098, train error 2.38,  val loss 0.334986, percent error 9.80\n",
            "Epoch    45, train loss 0.087978, train error 2.75,  val loss 0.334781, percent error 9.80\n",
            "Epoch    46, train loss 0.080507, train error 2.40,  val loss 0.336333, percent error 9.10\n",
            "Epoch    47, train loss 0.087300, train error 2.68,  val loss 0.342842, percent error 9.20\n",
            "Epoch    48, train loss 0.098873, train error 3.47,  val loss 0.389668, percent error 11.30\n",
            "Epoch    49, train loss 0.075817, train error 2.07,  val loss 0.345873, percent error 9.90\n",
            "Epoch    50, train loss 0.083846, train error 2.65,  val loss 0.360272, percent error 10.20\n",
            "Epoch    51, train loss 0.082704, train error 2.68,  val loss 0.356372, percent error 10.00\n",
            "Epoch    52, train loss 0.069338, train error 1.85,  val loss 0.346279, percent error 9.10\n",
            "Epoch    53, train loss 0.067028, train error 1.50,  val loss 0.350691, percent error 9.00\n",
            "Epoch    54, train loss 0.074166, train error 2.35,  val loss 0.352954, percent error 9.80\n",
            "Epoch    55, train loss 0.069232, train error 1.78,  val loss 0.348638, percent error 9.80\n",
            "Epoch    56, train loss 0.065303, train error 1.70,  val loss 0.344037, percent error 9.40\n",
            "Epoch    57, train loss 0.066501, train error 1.95,  val loss 0.356964, percent error 9.20\n",
            "Epoch    58, train loss 0.062538, train error 1.70,  val loss 0.359109, percent error 9.20\n",
            "Epoch    59, train loss 0.059462, train error 1.38,  val loss 0.358937, percent error 9.50\n",
            "Epoch    60, train loss 0.056755, train error 1.28,  val loss 0.353459, percent error 9.50\n",
            "Epoch    61, train loss 0.054932, train error 1.22,  val loss 0.354991, percent error 9.00\n",
            "Epoch    62, train loss 0.056412, train error 1.20,  val loss 0.365543, percent error 9.30\n",
            "Epoch    63, train loss 0.054086, train error 1.25,  val loss 0.360465, percent error 9.60\n",
            "Epoch    64, train loss 0.053882, train error 1.28,  val loss 0.365270, percent error 9.60\n",
            "Epoch    65, train loss 0.053827, train error 1.15,  val loss 0.360537, percent error 9.00\n",
            "Epoch    66, train loss 0.053505, train error 1.20,  val loss 0.368225, percent error 9.40\n",
            "Epoch    67, train loss 0.051989, train error 1.20,  val loss 0.366608, percent error 9.70\n",
            "Epoch    68, train loss 0.052064, train error 1.22,  val loss 0.372358, percent error 9.60\n",
            "Epoch    69, train loss 0.049969, train error 1.05,  val loss 0.362119, percent error 9.50\n",
            "Epoch    70, train loss 0.050607, train error 0.90,  val loss 0.370453, percent error 9.70\n",
            "Epoch    71, train loss 0.050866, train error 1.15,  val loss 0.364815, percent error 9.30\n",
            "Epoch    72, train loss 0.051472, train error 1.12,  val loss 0.375425, percent error 9.50\n",
            "Epoch    73, train loss 0.050360, train error 0.95,  val loss 0.368602, percent error 9.50\n",
            "Epoch    74, train loss 0.049676, train error 0.90,  val loss 0.366091, percent error 8.90\n",
            "Epoch    75, train loss 0.049460, train error 1.05,  val loss 0.375678, percent error 9.70\n",
            "Epoch    76, train loss 0.050508, train error 1.28,  val loss 0.371907, percent error 9.50\n",
            "Epoch    77, train loss 0.047860, train error 0.97,  val loss 0.380693, percent error 9.90\n",
            "Epoch    78, train loss 0.045879, train error 0.93,  val loss 0.368558, percent error 9.30\n",
            "Epoch    79, train loss 0.045134, train error 0.88,  val loss 0.378061, percent error 10.00\n",
            "Epoch    80, train loss 0.043767, train error 0.78,  val loss 0.375295, percent error 9.50\n",
            "Epoch    81, train loss 0.043943, train error 0.70,  val loss 0.374570, percent error 9.50\n",
            "Epoch    82, train loss 0.043596, train error 0.70,  val loss 0.375267, percent error 9.40\n",
            "Epoch    83, train loss 0.043335, train error 0.75,  val loss 0.374802, percent error 9.20\n",
            "Epoch    84, train loss 0.042921, train error 0.72,  val loss 0.378063, percent error 9.50\n",
            "Epoch    85, train loss 0.043368, train error 0.82,  val loss 0.379199, percent error 9.70\n",
            "Epoch    86, train loss 0.042382, train error 0.72,  val loss 0.377881, percent error 9.40\n",
            "Epoch    87, train loss 0.042026, train error 0.72,  val loss 0.379817, percent error 9.60\n",
            "Epoch    88, train loss 0.042476, train error 0.72,  val loss 0.379963, percent error 9.60\n",
            "Epoch    89, train loss 0.041490, train error 0.72,  val loss 0.379726, percent error 9.50\n",
            "Epoch    90, train loss 0.041866, train error 0.72,  val loss 0.380407, percent error 9.30\n",
            "Epoch    91, train loss 0.041297, train error 0.75,  val loss 0.378413, percent error 9.40\n",
            "Epoch    92, train loss 0.041005, train error 0.62,  val loss 0.381097, percent error 9.50\n",
            "Epoch    93, train loss 0.040759, train error 0.65,  val loss 0.381248, percent error 9.60\n",
            "Epoch    94, train loss 0.040417, train error 0.60,  val loss 0.381089, percent error 9.40\n",
            "Epoch    95, train loss 0.040275, train error 0.68,  val loss 0.380873, percent error 9.50\n",
            "Epoch    96, train loss 0.040274, train error 0.60,  val loss 0.382853, percent error 9.40\n",
            "Epoch    97, train loss 0.040659, train error 0.68,  val loss 0.387137, percent error 9.60\n",
            "Epoch    98, train loss 0.039709, train error 0.62,  val loss 0.384113, percent error 9.60\n",
            "Epoch    99, train loss 0.039524, train error 0.60,  val loss 0.384134, percent error 9.60\n"
          ]
        },
        {
          "output_type": "display_data",
          "data": {
            "text/plain": [
              "<Figure size 640x480 with 1 Axes>"
            ],
            "image/png": "[encoded data removed]"
          },
          "metadata": {}
        }
      ]
    }
  ]
}