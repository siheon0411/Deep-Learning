{
 "cells": [
  {
   "cell_type": "markdown",
   "metadata": {},
   "source": [
    "### 7.2.3 간단한 im2col 구현"
   ]
  },
  {
   "cell_type": "code",
   "execution_count": null,
   "metadata": {},
   "outputs": [],
   "source": [
    "import numpy as np\n",
    "\n",
    "def im2col(image, flt_h, flt_w, out_h, out_w): # 입력 이미지, 필터 높이와 너비、출력 이미지의 높이와 너비\n",
    "   \n",
    "    img_h, img_w = image.shape # 입력 이미지의 높이와 너비\n",
    "\n",
    "    cols = np.zeros((flt_h*flt_w, out_h*out_w)) # 생성되는 행렬 크기\n",
    "\n",
    "    for h in range(out_h):\n",
    "        h_lim = h + flt_h\n",
    "        for w in range(out_w):\n",
    "            w_lim = w + flt_w\n",
    "            cols[:, h*out_w+w] = img[h:h_lim, w:w_lim].reshape(-1)\n",
    "\n",
    "    return cols\n",
    "\n",
    "img = np.array([[1, 2, 3, 4],\n",
    "                [5, 6, 7, 8],\n",
    "                [9, 10,11,12],\n",
    "                [13,14,15,16]])\n",
    "cols = im2col(img, 2, 2, 3, 3)\n",
    "print(cols)"
   ]
  },
  {
   "cell_type": "code",
   "execution_count": null,
   "metadata": {},
   "outputs": [],
   "source": [
    "import numpy as np\n",
    "\n",
    "def im2col(image, flt_h, flt_w, out_h, out_w):\n",
    "   \n",
    "    img_h, img_w = image.shape\n",
    "    cols = np.zeros((flt_h, flt_w, out_h, out_w))\n",
    "\n",
    "    for h in range(flt_h):\n",
    "        h_lim = h + out_h\n",
    "        for w in range(flt_w):\n",
    "            w_lim = w + out_w\n",
    "            cols[h, w, :, :] = img[h:h_lim, w:w_lim]\n",
    "\n",
    "    cols = cols.reshape(flt_h*flt_w, out_h*out_w)\n",
    "\n",
    "    return cols\n",
    "\n",
    "img = np.array([[1, 2, 3, 4],\n",
    "                [5, 6, 7, 8],\n",
    "                [9, 10,11,12],\n",
    "                [13,14,15,16]])\n",
    "cols = im2col(img, 2, 2, 3, 3)\n",
    "print(cols)"
   ]
  },
  {
   "cell_type": "markdown",
   "metadata": {},
   "source": [
    "### 7.2.4 배치와 채널을 고려한 실천 im2col 코드"
   ]
  },
  {
   "cell_type": "code",
   "execution_count": null,
   "metadata": {},
   "outputs": [],
   "source": [
    "def im2col(images, flt_h, flt_w, out_h, out_w):\n",
    "   \n",
    "    n_bt, n_ch, img_h, img_w = images.shape # 배치 사이즈, 채널 수, 입력 이미지의 높이와 너비\n",
    "    \n",
    "    cols = np.zeros((n_bt, n_ch, flt_h, flt_w, out_h, out_w))\n",
    "\n",
    "    for h in range(flt_h):\n",
    "        h_lim = h + out_h\n",
    "        for w in range(flt_w):\n",
    "            w_lim = w + out_w\n",
    "            cols[:, :, h, w, :, :] = images[:, :, h:h_lim, w:w_lim]\n",
    "\n",
    "    cols = cols.transpose(1, 2, 3, 0, 4, 5).reshape(n_ch*flt_h*flt_w, n_bt*out_h*out_w)\n",
    "    return cols\n",
    "\n",
    "img = np.array([[[[1, 2, 3, 4],\n",
    "                  [5, 6, 7, 8],\n",
    "                  [9, 10,11,12],\n",
    "                  [13,14,15,16]]]])\n",
    "cols = im2col(img, 2, 2, 3, 3)\n",
    "print(cols)"
   ]
  },
  {
   "cell_type": "code",
   "execution_count": null,
   "metadata": {},
   "outputs": [],
   "source": [
    "def im2col(images, flt_h, flt_w, out_h, out_w, stride, pad):\n",
    "   \n",
    "    n_bt, n_ch, img_h, img_w = images.shape\n",
    "    \n",
    "    img_pad = np.pad(images, [(0,0), (0,0), (pad, pad), (pad, pad)], \"constant\")\n",
    "    cols = np.zeros((n_bt, n_ch, flt_h, flt_w, out_h, out_w))\n",
    "\n",
    "    for h in range(flt_h):\n",
    "        h_lim = h + stride*out_h\n",
    "        for w in range(flt_w):\n",
    "            w_lim = w + stride*out_w\n",
    "            cols[:, :, h, w, :, :] = img_pad[:, :, h:h_lim:stride, w:w_lim:stride]\n",
    "\n",
    "    cols = cols.transpose(1, 2, 3, 0, 4, 5).reshape(n_ch*flt_h*flt_w, n_bt*out_h*out_w)\n",
    "    return cols\n",
    "\n",
    "img = np.array([[[[1, 2, 3, 4],\n",
    "                  [5, 6, 7, 8],\n",
    "                  [9, 10,11,12],\n",
    "                  [13,14,15,16]]]])\n",
    "cols = im2col(img, 2, 2, 3, 3, 1, 0)\n",
    "print(cols)"
   ]
  },
  {
   "cell_type": "markdown",
   "metadata": {},
   "source": [
    "### 7.2.6 col2im 구현"
   ]
  },
  {
   "cell_type": "code",
   "execution_count": null,
   "metadata": {},
   "outputs": [],
   "source": [
    "def col2im(cols, img_shape, flt_h, flt_w, out_h, out_w, stride, pad):\n",
    " \n",
    "    n_bt, n_ch, img_h, img_w = img_shape\n",
    "    \n",
    "    cols = cols.reshape(n_ch, flt_h, flt_w, n_bt, out_h, out_w, ).transpose(3, 0, 1, 2, 4, 5)\n",
    "    images = np.zeros((n_bt, n_ch, img_h+2*pad+stride-1, img_w+2*pad+stride-1))\n",
    "    \n",
    "    for h in range(flt_h):\n",
    "        h_lim = h + stride*out_h\n",
    "        for w in range(flt_w):\n",
    "            w_lim = w + stride*out_w\n",
    "            images[:, :, h:h_lim:stride, w:w_lim:stride] += cols[:, :, h, w, :, :]\n",
    "\n",
    "    return images[:, :, pad:img_h+pad, pad:img_w+pad]\n",
    "\n",
    "cols = np.ones((4, 4))\n",
    "img_shape = (1, 1, 3, 3)\n",
    "images = col2im(cols, img_shape, 2, 2, 2, 2, 1, 0)\n",
    "print(images)"
   ]
  },
  {
   "cell_type": "code",
   "execution_count": null,
   "metadata": {},
   "outputs": [],
   "source": []
  }
 ],
 "metadata": {
  "kernelspec": {
   "display_name": "Python 3 (ipykernel)",
   "language": "python",
   "name": "python3"
  },
  "language_info": {
   "codemirror_mode": {
    "name": "ipython",
    "version": 3
   },
   "file_extension": ".py",
   "mimetype": "text/x-python",
   "name": "python",
   "nbconvert_exporter": "python",
   "pygments_lexer": "ipython3",
   "version": "3.11.4"
  }
 },
 "nbformat": 4,
 "nbformat_minor": 2
}
