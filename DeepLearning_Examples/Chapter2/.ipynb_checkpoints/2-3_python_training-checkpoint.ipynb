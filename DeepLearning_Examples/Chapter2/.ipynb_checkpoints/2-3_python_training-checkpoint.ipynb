{
 "cells": [
  {
   "cell_type": "markdown",
   "metadata": {},
   "source": [
    "## 2.3 Python 문법"
   ]
  },
  {
   "cell_type": "markdown",
   "metadata": {},
   "source": [
    "### 2.3.1 변수와 자료형"
   ]
  },
  {
   "cell_type": "code",
   "execution_count": null,
   "metadata": {},
   "outputs": [],
   "source": [
    "a = 123"
   ]
  },
  {
   "cell_type": "code",
   "execution_count": null,
   "metadata": {},
   "outputs": [],
   "source": [
    "a = 123  # 정수형\n",
    "b = 123.456  # 부동소수점\n",
    "c = \"Hello World!\"  # 문자열형\n",
    "d = True  # 논리형\n",
    "e = [1, 2, 3]  #리스트"
   ]
  },
  {
   "cell_type": "code",
   "execution_count": null,
   "metadata": {},
   "outputs": [],
   "source": [
    "a = 123\n",
    "print(type(a))"
   ]
  },
  {
   "cell_type": "code",
   "execution_count": null,
   "metadata": {},
   "outputs": [],
   "source": [
    "a = True; b = False\n",
    "print(a+b)"
   ]
  },
  {
   "cell_type": "code",
   "execution_count": null,
   "metadata": {},
   "outputs": [],
   "source": [
    "1.2e5   # 1.2x10의 5승 120000\n",
    "1.2e-5  # 1.2x10의 5승 0.000012"
   ]
  },
  {
   "cell_type": "markdown",
   "metadata": {},
   "source": [
    "### 2.3.2 연산자"
   ]
  },
  {
   "cell_type": "code",
   "execution_count": null,
   "metadata": {},
   "outputs": [],
   "source": [
    "a = 3; b = 4\n",
    "\n",
    "c = a + b               # 덧셈\n",
    "print(c) \n",
    "\n",
    "d = a < b               # 비교\n",
    "print(d)\n",
    "\n",
    "e = 3 < 4 and 4 < 5     # 논리합\n",
    "print(e)"
   ]
  },
  {
   "cell_type": "code",
   "execution_count": null,
   "metadata": {},
   "outputs": [],
   "source": [
    "a = \"Hello\" + \"World\"\n",
    "print(a)\n",
    "\n",
    "b = [1, 2, 3] + [4, 5, 6]\n",
    "print(b)"
   ]
  },
  {
   "cell_type": "markdown",
   "metadata": {},
   "source": [
    "### 2.3.3 리스트"
   ]
  },
  {
   "cell_type": "code",
   "execution_count": null,
   "metadata": {},
   "outputs": [],
   "source": [
    "a = [1, 2, 3, 4, 5]     # 리스트 생성\n",
    "\n",
    "b = a[2]                # 리스트의 3번째 원소(값) 추출\n",
    "print(b)\n",
    "\n",
    "a.append(6)             # 마지막 순서에 값을 추가\n",
    "print(a)\n",
    "\n",
    "a[2] = 7                # 3번째 원솟값을 변경\n",
    "print(a)"
   ]
  },
  {
   "cell_type": "markdown",
   "metadata": {},
   "source": [
    "### 2.3.4 튜플"
   ]
  },
  {
   "cell_type": "code",
   "execution_count": null,
   "metadata": {},
   "outputs": [],
   "source": [
    "a = (1, 2, 3, 4, 5)     # 튜플 생성\n",
    "\n",
    "b = a[2]                # 번째 원솟값을 추출\n",
    "print(b)"
   ]
  },
  {
   "cell_type": "code",
   "execution_count": null,
   "metadata": {},
   "outputs": [],
   "source": [
    "print(a + (6, 7, 8, 9, 10))"
   ]
  },
  {
   "cell_type": "code",
   "execution_count": null,
   "metadata": {},
   "outputs": [],
   "source": [
    "a = [1, 2, 3]\n",
    "a1, a2, a3 = a\n",
    "print(a1, a2, a3)\n",
    "\n",
    "b = (4, 5, 6)\n",
    "b1, b2, b3 = b\n",
    "print(b1, b2, b3)"
   ]
  },
  {
   "cell_type": "markdown",
   "metadata": {},
   "source": [
    "### 2.3.5 딕셔너리"
   ]
  },
  {
   "cell_type": "code",
   "execution_count": null,
   "metadata": {},
   "outputs": [],
   "source": [
    "a = {\"Apple\":3, \"Pineapple\":4}      # 딕셔너리 생성\n",
    "\n",
    "print(a[\"Apple\"])       # “Apple”을 키로 갖는 값을 표시\n",
    "\n",
    "a[\"Pinapple\"] = 6       # 원솟값을 변경\n",
    "print(a[\"Pinapple\"])\n",
    "\n",
    "a[\"Melon\"] = 3          # 원솟값을 추가\n",
    "print(a)"
   ]
  },
  {
   "cell_type": "markdown",
   "metadata": {},
   "source": [
    "### 2.3.6 if문"
   ]
  },
  {
   "cell_type": "code",
   "execution_count": null,
   "metadata": {},
   "outputs": [],
   "source": [
    "a = 7\n",
    "if a < 12:\n",
    "    print(\"Good morning!\")\n",
    "elif a < 17:\n",
    "    print(\"Good afternoon!\")\n",
    "elif a < 21:\n",
    "    print(\"Good evening!\")\n",
    "else:\n",
    "    print(\"Good night!\")"
   ]
  },
  {
   "cell_type": "markdown",
   "metadata": {},
   "source": [
    "### 2.3.7 for문"
   ]
  },
  {
   "cell_type": "code",
   "execution_count": null,
   "metadata": {},
   "outputs": [],
   "source": [
    "for a in [4, 7, 10]:    # 리스트를 이용한 반복\n",
    "    print(a)\n",
    "    \n",
    "for a in range(3):      # range 함수를 사용한 반복\n",
    "    print(a)"
   ]
  },
  {
   "cell_type": "markdown",
   "metadata": {},
   "source": [
    "### 2.3.8 while문"
   ]
  },
  {
   "cell_type": "code",
   "execution_count": null,
   "metadata": {},
   "outputs": [],
   "source": [
    "a = 0\n",
    "while a < 3:\n",
    "    print(a)\n",
    "    a += 1"
   ]
  },
  {
   "cell_type": "markdown",
   "metadata": {},
   "source": [
    "### 2.3.9 컴프리헨션(comprehension)"
   ]
  },
  {
   "cell_type": "code",
   "execution_count": null,
   "metadata": {},
   "outputs": [],
   "source": [
    "a = [1, 2, 3, 4, 5, 6, 7]\n",
    "b = [c*2 for c in a]    # a의 원소에 2를 곱해 새로운 리스트 생성\n",
    "print(b)"
   ]
  },
  {
   "cell_type": "code",
   "execution_count": null,
   "metadata": {},
   "outputs": [],
   "source": [
    "a = [1, 2, 3, 4, 5, 6, 7]\n",
    "b = [c*2 for c in a if c < 5]\n",
    "print(b)"
   ]
  },
  {
   "cell_type": "markdown",
   "metadata": {},
   "source": [
    "### 2.3.10 함수"
   ]
  },
  {
   "cell_type": "code",
   "execution_count": null,
   "metadata": {},
   "outputs": [],
   "source": [
    "def add(a, b):          # 함수 정의\n",
    "    c = a + b\n",
    "    return c\n",
    "\n",
    "print(add(3, 4))        # 함수 실행"
   ]
  },
  {
   "cell_type": "code",
   "execution_count": null,
   "metadata": {},
   "outputs": [],
   "source": [
    "def add(a, b=4):        # 2번째 인수에 기본값을 설정함\n",
    "    c = a + b\n",
    "    return c\n",
    "\n",
    "print(add(3))           # 2번째 인수는 지정하지 않음"
   ]
  },
  {
   "cell_type": "code",
   "execution_count": null,
   "metadata": {},
   "outputs": [],
   "source": [
    "def add(a, b ,c):\n",
    "    d = a + b + c\n",
    "    print(d)\n",
    "\n",
    "e = (1, 2, 3)\n",
    "add(*e)           # *를 붙인 튜플을 전달"
   ]
  },
  {
   "cell_type": "markdown",
   "metadata": {},
   "source": [
    "### 2.3.11 변수 범위"
   ]
  },
  {
   "cell_type": "code",
   "execution_count": null,
   "metadata": {},
   "outputs": [],
   "source": [
    "a = 123         # 전역변수\n",
    "\n",
    "def showNum():\n",
    "    b = 456     # 지역변수\n",
    "    print(a, b)\n",
    "    \n",
    "showNum()"
   ]
  },
  {
   "cell_type": "code",
   "execution_count": null,
   "metadata": {},
   "outputs": [],
   "source": [
    "a = 123\n",
    "\n",
    "def setLocal():\n",
    "    a = 456     # a는 지역변수로 간주됨\n",
    "    print(\"Local:\", a)\n",
    "    \n",
    "setLocal()\n",
    "print(\"Global:\", a)"
   ]
  },
  {
   "cell_type": "code",
   "execution_count": null,
   "metadata": {},
   "outputs": [],
   "source": [
    "a = 123\n",
    "\n",
    "def setGlobal():\n",
    "    global a            # 함수 안에서 전역변수 사용 준비\n",
    "    a = 456\n",
    "    print(\"Global:\", a)\n",
    "    \n",
    "setGlobal()\n",
    "print(\"Global:\", a)"
   ]
  },
  {
   "cell_type": "markdown",
   "metadata": {},
   "source": [
    "### 2.3.12 클래스"
   ]
  },
  {
   "cell_type": "code",
   "execution_count": null,
   "metadata": {},
   "outputs": [],
   "source": [
    "class Calc:\n",
    "    def __init__(self, a):\n",
    "        self.a = a\n",
    "   \n",
    "    def add(self, b):\n",
    "        print(self.a + b)\n",
    "        \n",
    "    def multiply(self, b):\n",
    "        print(self.a * b)"
   ]
  },
  {
   "cell_type": "code",
   "execution_count": null,
   "metadata": {},
   "outputs": [],
   "source": [
    "calc = Calc(3)\n",
    "calc.add(4)\n",
    "calc.multiply(4)"
   ]
  },
  {
   "cell_type": "code",
   "execution_count": null,
   "metadata": {},
   "outputs": [],
   "source": [
    "class CalcPlus(Calc):     # Calc을 상속받음\n",
    "    def subtract(self, b):\n",
    "        print(self.a - b)\n",
    "        \n",
    "    def divide(self, b):\n",
    "        print(self.a / b)"
   ]
  },
  {
   "cell_type": "code",
   "execution_count": null,
   "metadata": {},
   "outputs": [],
   "source": [
    "calc_plus = CalcPlus(3)\n",
    "calc_plus.add(4)\n",
    "calc_plus.multiply(4)\n",
    "calc_plus.subtract(4)\n",
    "calc_plus.divide(4)"
   ]
  },
  {
   "cell_type": "code",
   "execution_count": null,
   "metadata": {},
   "outputs": [],
   "source": []
  }
 ],
 "metadata": {
  "kernelspec": {
   "display_name": "Python 3",
   "language": "python",
   "name": "python3"
  },
  "language_info": {
   "codemirror_mode": {
    "name": "ipython",
    "version": 3
   },
   "file_extension": ".py",
   "mimetype": "text/x-python",
   "name": "python",
   "nbconvert_exporter": "python",
   "pygments_lexer": "ipython3",
   "version": "3.7.3"
  }
 },
 "nbformat": 4,
 "nbformat_minor": 2
}
