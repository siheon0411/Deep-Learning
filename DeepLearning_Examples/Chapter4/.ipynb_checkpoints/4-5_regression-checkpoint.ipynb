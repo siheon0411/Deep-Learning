{
 "cells": [
  {
   "cell_type": "markdown",
   "metadata": {},
   "source": [
    "### 4.6.5 신경망（회귀）"
   ]
  },
  {
   "cell_type": "code",
   "execution_count": null,
   "metadata": {},
   "outputs": [],
   "source": [
    "%matplotlib inline\n",
    "\n",
    "import numpy as np\n",
    "import matplotlib.pyplot as plt\n",
    "\n",
    "# x, y 값\n",
    "X = np.arange(-1.0, 1.0, 0.2)  # 원소는 10개\n",
    "Y = np.arange(-1.0, 1.0, 0.2)\n",
    "\n",
    "# 출력을 저장하는 10X10 그리드\n",
    "Z = np.zeros((10,10))\n",
    "\n",
    "# 가중치\n",
    "w_im = np.array([[4.0,4.0],\n",
    "                 [4.0,4.0]])  # 은닉층 2x2 행렬\n",
    "w_mo = np.array([[1.0],\n",
    "                 [-1.0]])     # 출력층 2x1 행렬\n",
    "\n",
    "# 편향\n",
    "b_im = np.array([3.0,-3.0]) # 은닉층\n",
    "b_mo = np.array([0.1])      # 출력층 \n",
    "\n",
    "# 은닉층\n",
    "def middle_layer(x, w, b):\n",
    "    u = np.dot(x, w) + b\n",
    "    return 1/(1+np.exp(-u)) # 시그모이드 함수\n",
    "\n",
    "# 출력층\n",
    "def output_layer(x, w, b):\n",
    "    u = np.dot(x, w) + b\n",
    "    return u  # 항등함수\n",
    "\n",
    "# 그리드맵의 각 그리드별 신경망 연산\n",
    "for i in range(10):\n",
    "    for j in range(10):\n",
    "        \n",
    "        # 순전파\n",
    "        inp = np.array([X[i], Y[j]])        # 입력층\n",
    "        mid = middle_layer(inp, w_im, b_im) # 은닉층\n",
    "        out = output_layer(mid, w_mo, b_mo) # 출력층\n",
    "        \n",
    "        # 그리드맵에 신경망 출력 값 저장\n",
    "        Z[j][i] = out[0]\n",
    "\n",
    "# 그리드맵으로 표시\n",
    "plt.imshow(Z, \"gray\", vmin = 0.0, vmax = 1.0)\n",
    "plt.colorbar()  \n",
    "plt.show()"
   ]
  },
  {
   "cell_type": "code",
   "execution_count": null,
   "metadata": {},
   "outputs": [],
   "source": []
  }
 ],
 "metadata": {
  "kernelspec": {
   "display_name": "Python 3",
   "language": "python",
   "name": "python3"
  },
  "language_info": {
   "codemirror_mode": {
    "name": "ipython",
    "version": 3
   },
   "file_extension": ".py",
   "mimetype": "text/x-python",
   "name": "python",
   "nbconvert_exporter": "python",
   "pygments_lexer": "ipython3",
   "version": "3.7.3"
  }
 },
 "nbformat": 4,
 "nbformat_minor": 2
}
