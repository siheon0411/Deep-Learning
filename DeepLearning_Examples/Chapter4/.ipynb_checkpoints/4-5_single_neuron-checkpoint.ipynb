{
 "cells": [
  {
   "cell_type": "markdown",
   "metadata": {},
   "source": [
    "### 4.6.1 단일 뉴런 구현"
   ]
  },
  {
   "cell_type": "code",
   "execution_count": null,
   "metadata": {},
   "outputs": [],
   "source": [
    "%matplotlib inline\n",
    "\n",
    "import numpy as np\n",
    "import matplotlib.pyplot as plt\n",
    "\n",
    "# x, y 값\n",
    "X = np.arange(-1.0, 1.0, 0.2)  # 원소 수는 10개 \n",
    "Y = np.arange(-1.0, 1.0, 0.2)\n",
    "\n",
    "# 출력값을 저장할 10x10 그리드\n",
    "Z = np.zeros((10,10))\n",
    "\n",
    "# x, y 값의 입력 가중치\n",
    "w_x = 2.5\n",
    "w_y = 3.0\n",
    "\n",
    "# 편향\n",
    "bias = 0.1\n",
    "\n",
    "# 그리드맵의 각 그리드별 뉴런의 연산\n",
    "for i in range(10):\n",
    "    for j in range(10):\n",
    "        \n",
    "        # 입력과 가중치 곱의 합 + 편향\n",
    "        u = X[i]*w_x + Y[j]*w_y + bias \n",
    "        \n",
    "        # 그리드맵에 출력 값 저장\n",
    "        y = 1/(1+np.exp(-u)) # 시그모이드 함수\n",
    "        Z[j][i] = y\n",
    "\n",
    "# 그리드맵 표시\n",
    "plt.imshow(Z, \"gray\", vmin = 0.0, vmax = 1.0)\n",
    "plt.colorbar()  \n",
    "plt.show()"
   ]
  },
  {
   "cell_type": "code",
   "execution_count": null,
   "metadata": {},
   "outputs": [],
   "source": []
  }
 ],
 "metadata": {
  "kernelspec": {
   "display_name": "Python 3",
   "language": "python",
   "name": "python3"
  },
  "language_info": {
   "codemirror_mode": {
    "name": "ipython",
    "version": 3
   },
   "file_extension": ".py",
   "mimetype": "text/x-python",
   "name": "python",
   "nbconvert_exporter": "python",
   "pygments_lexer": "ipython3",
   "version": "3.7.3"
  }
 },
 "nbformat": 4,
 "nbformat_minor": 2
}
