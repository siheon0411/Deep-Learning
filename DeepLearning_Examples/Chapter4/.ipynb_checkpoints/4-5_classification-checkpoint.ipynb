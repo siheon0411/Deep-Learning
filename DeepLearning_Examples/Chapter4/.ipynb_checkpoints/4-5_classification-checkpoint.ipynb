{
 "cells": [
  {
   "cell_type": "markdown",
   "metadata": {},
   "source": [
    "### 4.6 신경망 구현（분류）"
   ]
  },
  {
   "cell_type": "code",
   "execution_count": null,
   "metadata": {},
   "outputs": [],
   "source": [
    "%matplotlib inline\n",
    "\n",
    "import numpy as np\n",
    "import matplotlib.pyplot as plt\n",
    "\n",
    "# x, y 값\n",
    "X = np.arange(-1.0, 1.0, 0.1)  # 원소는 10개\n",
    "Y = np.arange(-1.0, 1.0, 0.1)\n",
    "\n",
    "# 가중치\n",
    "w_im = np.array([[1.0,2.0],\n",
    "                 [2.0,3.0]])  # 은닉층 2x2 행렬\n",
    "w_mo = np.array([[-1.0,1.0],\n",
    "                 [1.0,-1.0]]) # 출력층 2x2 행렬\n",
    "\n",
    "# 편향\n",
    "b_im = np.array([0.3,-0.3]) # 은닉층\n",
    "b_mo = np.array([0.4,0.1])  # 출력층 \n",
    "\n",
    "# 은닉층\n",
    "def middle_layer(x, w, b):\n",
    "    u = np.dot(x, w) + b\n",
    "    return 1/(1+np.exp(-u)) # 시그모이드 함수\n",
    "\n",
    "# 출력층\n",
    "def output_layer(x, w, b):\n",
    "    u = np.dot(x, w) + b\n",
    "    return np.exp(u)/np.sum(np.exp(u)) # 소프트맥스 함수\n",
    "\n",
    "# 분류 결과를 저장하는 리스트\n",
    "x_1 = []\n",
    "y_1 = []\n",
    "x_2 = []\n",
    "y_2 = []\n",
    "\n",
    "# 그리드맵의 각 그리드별 신경망 연산\n",
    "for i in range(20):\n",
    "    for j in range(20):\n",
    "        \n",
    "        # 순전파\n",
    "        inp = np.array([X[i], Y[j]])\n",
    "        mid = middle_layer(inp, w_im, b_im)\n",
    "        out = output_layer(mid, w_mo, b_mo)\n",
    "        \n",
    "        # 확률의 크기를 비교해 분류함\n",
    "        if out[0] > out[1]:\n",
    "            x_1.append(X[i])\n",
    "            y_1.append(Y[j])\n",
    "        else:\n",
    "            x_2.append(X[i])\n",
    "            y_2.append(Y[j])\n",
    "\n",
    "# 산포도 표시\n",
    "plt.scatter(x_1, y_1, marker=\"+\")\n",
    "plt.scatter(x_2, y_2, marker=\"o\")\n",
    "plt.show()"
   ]
  },
  {
   "cell_type": "code",
   "execution_count": null,
   "metadata": {},
   "outputs": [],
   "source": []
  }
 ],
 "metadata": {
  "kernelspec": {
   "display_name": "Python 3",
   "language": "python",
   "name": "python3"
  },
  "language_info": {
   "codemirror_mode": {
    "name": "ipython",
    "version": 3
   },
   "file_extension": ".py",
   "mimetype": "text/x-python",
   "name": "python",
   "nbconvert_exporter": "python",
   "pygments_lexer": "ipython3",
   "version": "3.7.3"
  }
 },
 "nbformat": 4,
 "nbformat_minor": 2
}
